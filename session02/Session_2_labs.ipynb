{
 "cells": [
  {
   "cell_type": "markdown",
   "metadata": {},
   "source": [
    "# Session 7 Labs \n",
    "\n",
    "Section 1: Conditionals, loops, and functions \\\n",
    "Section 2: .csv files \\\n",
    "Section 3: Web scraping\n",
    "\n",
    "\n"
   ]
  },
  {
   "cell_type": "markdown",
   "metadata": {},
   "source": [
    "## Section 1: Conditionals, loops, and functions\n",
    "\n",
    "If you feel that you are already comfortable with these concepts, feel free to skip this section and move on to section 2\n",
    "\n",
    "<ins>Resources</ins>:\\\n",
    "Conditional statements: https://www.w3schools.com/python/python_conditions.asp \\\n",
    "While loops: https://www.w3schools.com/python/python_while_loops.asp \\\n",
    "For loops: https://www.w3schools.com/python/python_for_loops.asp \\\n",
    "Functions: https://www.w3schools.com/python/python_functions.asp "
   ]
  },
  {
   "cell_type": "markdown",
   "metadata": {},
   "source": [
    "### Task 1\n",
    "\n",
    "Write a program that determines whether a value is:\n",
    "1.  A multiple of 7\n",
    "2.  A multiple of 5\n",
    "3.  A multiple of both 7 and 5\n",
    "4.  None of the above\n",
    "\n",
    "Print out an appropriate response for each option.\n"
   ]
  },
  {
   "cell_type": "code",
   "execution_count": 1,
   "metadata": {},
   "outputs": [
    {
     "name": "stdout",
     "output_type": "stream",
     "text": [
      "Multiple of 7\n"
     ]
    }
   ],
   "source": [
    "#Complete task 1 in this box\n",
    "n = 77\n",
    "if n % 7 == 0:\n",
    "    print (\"Multiple of 7\")\n",
    "else:\n",
    "    print (\"Not a multiple of 7\")    "
   ]
  },
  {
   "cell_type": "code",
   "execution_count": 2,
   "metadata": {},
   "outputs": [
    {
     "name": "stdout",
     "output_type": "stream",
     "text": [
      "Multiple of 5\n"
     ]
    }
   ],
   "source": [
    "n = 125\n",
    "if n % 5 == 0 :\n",
    "    print (\"Multiple of 5\")\n",
    "else: \n",
    "    print (\"Not a multiple of 5\")"
   ]
  },
  {
   "cell_type": "code",
   "execution_count": 3,
   "metadata": {},
   "outputs": [
    {
     "name": "stdout",
     "output_type": "stream",
     "text": [
      "Multiple of 5 and 7\n"
     ]
    }
   ],
   "source": [
    "n = 70\n",
    "if n % 5 == 0 and n % 7 == 0:\n",
    "    print (\"Multiple of 5 and 7\")\n",
    "else:\n",
    "    print (\"Not a multiple of 5 and 7\")"
   ]
  },
  {
   "cell_type": "markdown",
   "metadata": {},
   "source": [
    "### Task 2\n",
    "\n",
    "Using at least one loop, write a program that will print the following pattern:\n",
    "\n",
    "\n",
    "£ \\\n",
    "££ \\\n",
    "£££ \\\n",
    "££££ \\\n",
    "£££££ \\\n",
    "££££ \\\n",
    "£££ \\\n",
    "££ \\\n",
    "£ \n",
    "\n"
   ]
  },
  {
   "cell_type": "code",
   "execution_count": 4,
   "metadata": {},
   "outputs": [
    {
     "name": "stdout",
     "output_type": "stream",
     "text": [
      "£\n",
      "££\n",
      "£££\n",
      "££££\n",
      "£££££\n"
     ]
    }
   ],
   "source": [
    "#Complete task 2 in this box\n",
    "p = 0\n",
    "\n",
    "while p < 5:\n",
    "    p+= 1\n",
    "    print (\"£\" * p)\n",
    "\n",
    "    \n",
    "\n"
   ]
  },
  {
   "cell_type": "code",
   "execution_count": 5,
   "metadata": {},
   "outputs": [
    {
     "name": "stdout",
     "output_type": "stream",
     "text": [
      "£\n",
      "££\n",
      "£££\n",
      "££££\n",
      "£££££\n",
      "££££\n",
      "£££\n",
      "££\n",
      "£\n"
     ]
    }
   ],
   "source": [
    "#Complete task 2 in this box\n",
    "\n",
    "for i in range (1,6):\n",
    "    print (\"£\" * i)\n",
    "\n",
    "\n",
    "for i in range (4,0, -1):\n",
    "    print (\"£\" * i)\n",
    "\n",
    "    \n",
    "\n"
   ]
  },
  {
   "cell_type": "markdown",
   "metadata": {},
   "source": [
    "### Task 3\n",
    "\n",
    "Write a program that determines the largest numerical value in a list. You may use the example lists given or create your own.\n",
    "\n",
    "**Extension** : Turn this into a function that takes the list as an argument and returns the largest value."
   ]
  },
  {
   "cell_type": "code",
   "execution_count": 6,
   "metadata": {},
   "outputs": [
    {
     "name": "stdout",
     "output_type": "stream",
     "text": [
      "[3, 6, 19, 45, 100]\n",
      "100\n",
      "120\n"
     ]
    }
   ],
   "source": [
    "list1 = [3,45,6,19,100]\n",
    "list2 = [12,4,120,5,11,15,42]\n",
    "# largest in list1\n",
    "list1.sort()\n",
    "print (list1)\n",
    "largest_list1 = max(list1)\n",
    "print (largest_list1)\n",
    "\n",
    "#largest in list2\n",
    "largest_list2 = max(list2)\n",
    "print (largest_list2)\n",
    "\n",
    "\n",
    "\n"
   ]
  },
  {
   "cell_type": "markdown",
   "metadata": {},
   "source": [
    "### Task 4\n",
    "\n",
    "Write a function that return the next day of a given date. "
   ]
  },
  {
   "cell_type": "code",
   "execution_count": 7,
   "metadata": {},
   "outputs": [
    {
     "name": "stdout",
     "output_type": "stream",
     "text": [
      "2025-01-25 09:33:40.516434\n",
      "25\n",
      "The next day is\n",
      "The next day is 22\n"
     ]
    }
   ],
   "source": [
    "import datetime\n",
    "\n",
    "x = datetime.datetime.now()\n",
    "\n",
    "print(x)\n",
    "print(x.strftime(\"%d\"))\n",
    "\n",
    "def next_day():\n",
    "    print(\"The next day is\")\n",
    "next_day ()\n",
    "\n",
    "def next_day(tomorrow):\n",
    "    return tomorrow\n",
    "print (\"The next day is\", next_day(22))\n",
    "    \n",
    "\n"
   ]
  },
  {
   "cell_type": "markdown",
   "metadata": {},
   "source": [
    "## Section 2: .csv files\n",
    "\n",
    "<ins> Resources</ins>: \n",
    "\n",
    "Pandas: https://www.w3schools.com/python/pandas/pandas_getting_started.asp\n"
   ]
  },
  {
   "cell_type": "markdown",
   "metadata": {},
   "source": [
    "1. Choose a .cvs file to work with. There are two in the repo. The demo file from W3 schools contains data around exercise stats. There is also a file containing the collection of a US art gallery.\n",
    "\n",
    "2. See what data is in the file and think how you might want to view it\n",
    "\n",
    "3. Clean the data, info here: (https://www.w3schools.com/python/pandas/pandas_cleaning.asp), then save it to a different .csv file, info here: (https://www.programiz.com/python-programming/pandas/methods/to_csv)\n",
    "   \n",
    "4. Find interesting correlations in the data. Eg. pulse to calorie burn, year to dimensions. Info on this process here: (https://www.w3schools.com/python/pandas/pandas_correlations.asp)\n",
    "\n",
    "Optional : Once you’ve done this, find a new .cvs online and repeat the steps above. Museum exhibit list, sports stats (league tables ect… ) are fun. You can find a whole range to play with here: (https://www.kaggle.com/datasets?fileType=csv)"
   ]
  },
  {
   "cell_type": "code",
   "execution_count": 8,
   "metadata": {},
   "outputs": [
    {
     "name": "stdout",
     "output_type": "stream",
     "text": [
      "Requirement already satisfied: pandas in /Users/toniayon/daz_practice/daz-venv/lib/python3.11/site-packages (2.2.3)\n",
      "Requirement already satisfied: numpy>=1.23.2 in /Users/toniayon/daz_practice/daz-venv/lib/python3.11/site-packages (from pandas) (2.2.2)\n",
      "Requirement already satisfied: python-dateutil>=2.8.2 in /Users/toniayon/daz_practice/daz-venv/lib/python3.11/site-packages (from pandas) (2.9.0.post0)\n",
      "Requirement already satisfied: pytz>=2020.1 in /Users/toniayon/daz_practice/daz-venv/lib/python3.11/site-packages (from pandas) (2024.2)\n",
      "Requirement already satisfied: tzdata>=2022.7 in /Users/toniayon/daz_practice/daz-venv/lib/python3.11/site-packages (from pandas) (2024.2)\n",
      "Requirement already satisfied: six>=1.5 in /Users/toniayon/daz_practice/daz-venv/lib/python3.11/site-packages (from python-dateutil>=2.8.2->pandas) (1.17.0)\n",
      "\n",
      "\u001b[1m[\u001b[0m\u001b[34;49mnotice\u001b[0m\u001b[1;39;49m]\u001b[0m\u001b[39;49m A new release of pip is available: \u001b[0m\u001b[31;49m24.0\u001b[0m\u001b[39;49m -> \u001b[0m\u001b[32;49m24.3.1\u001b[0m\n",
      "\u001b[1m[\u001b[0m\u001b[34;49mnotice\u001b[0m\u001b[1;39;49m]\u001b[0m\u001b[39;49m To update, run: \u001b[0m\u001b[32;49mpip install --upgrade pip\u001b[0m\n"
     ]
    }
   ],
   "source": [
    "!pip install pandas"
   ]
  },
  {
   "cell_type": "code",
   "execution_count": 9,
   "metadata": {},
   "outputs": [],
   "source": [
    "import pandas as pd"
   ]
  },
  {
   "cell_type": "code",
   "execution_count": 10,
   "metadata": {},
   "outputs": [
    {
     "name": "stdout",
     "output_type": "stream",
     "text": [
      "['Duration', 'Pulse', 'Maxpulse', 'Calories']\n",
      "['60', '110', '130', '409.1']\n",
      "['60', '117', '145', '479.0']\n",
      "['60', '103', '135', '340.0']\n",
      "['45', '109', '175', '282.4']\n",
      "['45', '117', '148', '406.0']\n",
      "['60', '102', '127', '300.0']\n",
      "['60', '110', '136', '374.0']\n",
      "['45', '104', '134', '253.3']\n",
      "['30', '109', '133', '195.1']\n",
      "['60', '98', '124', '269.0']\n",
      "['60', '103', '147', '329.3']\n",
      "['60', '100', '120', '250.7']\n",
      "['60', '106', '128', '345.3']\n",
      "['60', '104', '132', '379.3']\n",
      "['60', '98', '123', '275.0']\n",
      "['60', '98', '120', '215.2']\n",
      "['60', '100', '120', '300.0']\n",
      "['45', '90', '112', '']\n",
      "['60', '103', '123', '323.0']\n",
      "['45', '97', '125', '243.0']\n",
      "['60', '108', '131', '364.2']\n",
      "['45', '100', '119', '282.0']\n",
      "['60', '130', '101', '300.0']\n",
      "['45', '105', '132', '246.0']\n",
      "['60', '102', '126', '334.5']\n",
      "['60', '100', '120', '250.0']\n",
      "['60', '92', '118', '241.0']\n",
      "['60', '103', '132', '']\n",
      "['60', '100', '132', '280.0']\n",
      "['60', '102', '129', '380.3']\n",
      "['60', '92', '115', '243.0']\n",
      "['45', '90', '112', '180.1']\n",
      "['60', '101', '124', '299.0']\n",
      "['60', '93', '113', '223.0']\n",
      "['60', '107', '136', '361.0']\n",
      "['60', '114', '140', '415.0']\n",
      "['60', '102', '127', '300.0']\n",
      "['60', '100', '120', '300.0']\n",
      "['60', '100', '120', '300.0']\n",
      "['45', '104', '129', '266.0']\n",
      "['45', '90', '112', '180.1']\n",
      "['60', '98', '126', '286.0']\n",
      "['60', '100', '122', '329.4']\n",
      "['60', '111', '138', '400.0']\n",
      "['60', '111', '131', '397.0']\n",
      "['60', '99', '119', '273.0']\n",
      "['60', '109', '153', '387.6']\n",
      "['45', '111', '136', '300.0']\n",
      "['45', '108', '129', '298.0']\n",
      "['60', '111', '139', '397.6']\n",
      "['60', '107', '136', '380.2']\n",
      "['80', '123', '146', '643.1']\n",
      "['60', '106', '130', '263.0']\n",
      "['60', '118', '151', '486.0']\n",
      "['30', '136', '175', '238.0']\n",
      "['60', '121', '146', '450.7']\n",
      "['60', '118', '121', '413.0']\n",
      "['45', '115', '144', '305.0']\n",
      "['20', '153', '172', '226.4']\n",
      "['45', '123', '152', '321.0']\n",
      "['210', '108', '160', '1376.0']\n",
      "['160', '110', '137', '1034.4']\n",
      "['160', '109', '135', '853.0']\n",
      "['45', '118', '141', '341.0']\n",
      "['20', '110', '130', '131.4']\n",
      "['180', '90', '130', '800.4']\n",
      "['150', '105', '135', '873.4']\n",
      "['150', '107', '130', '816.0']\n",
      "['20', '106', '136', '110.4']\n",
      "['300', '108', '143', '1500.2']\n",
      "['150', '97', '129', '1115.0']\n",
      "['60', '109', '153', '387.6']\n",
      "['90', '100', '127', '700.0']\n",
      "['150', '97', '127', '953.2']\n",
      "['45', '114', '146', '304.0']\n",
      "['90', '98', '125', '563.2']\n",
      "['45', '105', '134', '251.0']\n",
      "['45', '110', '141', '300.0']\n",
      "['120', '100', '130', '500.4']\n",
      "['270', '100', '131', '1729.0']\n",
      "['30', '159', '182', '319.2']\n",
      "['45', '149', '169', '344.0']\n",
      "['30', '103', '139', '151.1']\n",
      "['120', '100', '130', '500.0']\n",
      "['45', '100', '120', '225.3']\n",
      "['30', '151', '170', '300.0']\n",
      "['45', '102', '136', '234.0']\n",
      "['120', '100', '157', '1000.1']\n",
      "['45', '129', '103', '242.0']\n",
      "['20', '83', '107', '50.3']\n",
      "['180', '101', '127', '600.1']\n",
      "['45', '107', '137', '']\n",
      "['30', '90', '107', '105.3']\n",
      "['15', '80', '100', '50.5']\n",
      "['20', '150', '171', '127.4']\n",
      "['20', '151', '168', '229.4']\n",
      "['30', '95', '128', '128.2']\n",
      "['25', '152', '168', '244.2']\n",
      "['30', '109', '131', '188.2']\n",
      "['90', '93', '124', '604.1']\n",
      "['20', '95', '112', '77.7']\n",
      "['90', '90', '110', '500.0']\n",
      "['90', '90', '100', '500.0']\n",
      "['90', '90', '100', '500.4']\n",
      "['30', '92', '108', '92.7']\n",
      "['30', '93', '128', '124.0']\n",
      "['180', '90', '120', '800.3']\n",
      "['30', '90', '120', '86.2']\n",
      "['90', '90', '120', '500.3']\n",
      "['210', '137', '184', '1860.4']\n",
      "['60', '102', '124', '325.2']\n",
      "['45', '107', '124', '275.0']\n",
      "['15', '124', '139', '124.2']\n",
      "['45', '100', '120', '225.3']\n",
      "['60', '108', '131', '367.6']\n",
      "['60', '108', '151', '351.7']\n",
      "['60', '116', '141', '443.0']\n",
      "['60', '97', '122', '277.4']\n",
      "['60', '105', '125', '']\n",
      "['60', '103', '124', '332.7']\n",
      "['30', '112', '137', '193.9']\n",
      "['45', '100', '120', '100.7']\n",
      "['60', '119', '169', '336.7']\n",
      "['60', '107', '127', '344.9']\n",
      "['60', '111', '151', '368.5']\n",
      "['60', '98', '122', '271.0']\n",
      "['60', '97', '124', '275.3']\n",
      "['60', '109', '127', '382.0']\n",
      "['90', '99', '125', '466.4']\n",
      "['60', '114', '151', '384.0']\n",
      "['60', '104', '134', '342.5']\n",
      "['60', '107', '138', '357.5']\n",
      "['60', '103', '133', '335.0']\n",
      "['60', '106', '132', '327.5']\n",
      "['60', '103', '136', '339.0']\n",
      "['20', '136', '156', '189.0']\n",
      "['45', '117', '143', '317.7']\n",
      "['45', '115', '137', '318.0']\n",
      "['45', '113', '138', '308.0']\n",
      "['20', '141', '162', '222.4']\n",
      "['60', '108', '135', '390.0']\n",
      "['60', '97', '127', '']\n",
      "['45', '100', '120', '250.4']\n",
      "['45', '122', '149', '335.4']\n",
      "['60', '136', '170', '470.2']\n",
      "['45', '106', '126', '270.8']\n",
      "['60', '107', '136', '400.0']\n",
      "['60', '112', '146', '361.9']\n",
      "['30', '103', '127', '185.0']\n",
      "['60', '110', '150', '409.4']\n",
      "['60', '106', '134', '343.0']\n",
      "['60', '109', '129', '353.2']\n",
      "['60', '109', '138', '374.0']\n",
      "['30', '150', '167', '275.8']\n",
      "['60', '105', '128', '328.0']\n",
      "['60', '111', '151', '368.5']\n",
      "['60', '97', '131', '270.4']\n",
      "['60', '100', '120', '270.4']\n",
      "['60', '114', '150', '382.8']\n",
      "['30', '80', '120', '240.9']\n",
      "['30', '85', '120', '250.4']\n",
      "['45', '90', '130', '260.4']\n",
      "['45', '95', '130', '270.0']\n",
      "['45', '100', '140', '280.9']\n",
      "['60', '105', '140', '290.8']\n",
      "['60', '110', '145', '300.0']\n",
      "['60', '115', '145', '310.2']\n",
      "['75', '120', '150', '320.4']\n",
      "['75', '125', '150', '330.4']\n"
     ]
    }
   ],
   "source": [
    "import csv\n",
    "with open('data.csv', mode ='r')as file:\n",
    "  csvFile = csv.reader(file)\n",
    "  for lines in csvFile:\n",
    "        print(lines)"
   ]
  },
  {
   "cell_type": "code",
   "execution_count": 23,
   "metadata": {},
   "outputs": [
    {
     "name": "stdout",
     "output_type": "stream",
     "text": [
      "     Unnamed: 0.2  Unnamed: 0.1  Unnamed: 0  Duration  Pulse  Maxpulse  Calories\n",
      "0               0             0           0        60    110       130     409.1\n",
      "1               1             1           1        60    117       145     479.0\n",
      "2               2             2           2        60    103       135     340.0\n",
      "3               3             3           3        45    109       175     282.4\n",
      "4               4             4           4        45    117       148     406.0\n",
      "5               5             5           5        60    102       127     300.0\n",
      "6               6             6           6        60    110       136     374.0\n",
      "7               7             7           7        45    104       134     253.3\n",
      "8               8             8           8        55    109       133     195.1\n",
      "9               9             9          10        60    103       147     329.3\n",
      "10             10            10          11        60    100       120     250.7\n",
      "11             11            11          12        60    106       128     345.3\n",
      "12             12            12          13        60    104       132     379.3\n",
      "13             13            13          16        60    100       120     300.0\n",
      "14             14            14          18        60    103       123     323.0\n",
      "15             15            15          20        60    108       131     364.2\n",
      "16             16            16          21        45    100       119     282.0\n",
      "17             17            17          22        60    130       101     300.0\n",
      "18             18            18          23        45    105       132     246.0\n",
      "19             19            19          24        60    102       126     334.5\n",
      "20             20            20          25        60    100       120     250.0\n",
      "21             21            21          28        60    100       132     280.0\n",
      "22             22            22          29        60    102       129     380.3\n",
      "23             23            23          32        60    101       124     299.0\n",
      "24             24            24          34        60    107       136     361.0\n",
      "25             25            25          35        60    114       140     415.0\n",
      "26             26            26          36        60    102       127     300.0\n",
      "27             27            27          37        60    100       120     300.0\n",
      "28             28            28          38        60    100       120     300.0\n",
      "29             29            29          39        45    104       129     266.0\n",
      "30             30            30          42        60    100       122     329.4\n",
      "31             31            31          43        60    111       138     400.0\n",
      "32             32            32          44        60    111       131     397.0\n",
      "33             33            33          46        60    109       153     387.6\n",
      "34             34            34          47        45    111       136     300.0\n",
      "35             35            35          48        45    108       129     298.0\n",
      "36             36            36          49        60    111       139     397.6\n",
      "37             37            37          50        60    107       136     380.2\n",
      "38             38            38          51        80    123       146     643.1\n",
      "39             39            39          52        60    106       130     263.0\n",
      "40             40            40          53        60    118       151     486.0\n",
      "41             41            41          54        30    136       175     238.0\n",
      "42             42            42          55        60    121       146     450.7\n",
      "43             43            43          56        60    118       121     413.0\n",
      "44             44            44          57        45    115       144     305.0\n",
      "45             45            45          58        20    153       172     226.4\n",
      "46             46            46          59        45    123       152     321.0\n",
      "47             47            47          60       210    108       160    1376.0\n",
      "48             48            48          61       160    110       137    1034.4\n",
      "49             49            49          62       160    109       135     853.0\n",
      "50             50            50          63        45    118       141     341.0\n",
      "51             51            51          64        20    110       130     131.4\n",
      "52             52            52          66       150    105       135     873.4\n",
      "53             53            53          67       150    107       130     816.0\n",
      "54             54            54          68        20    106       136     110.4\n",
      "55             55            55          69       300    108       143    1500.2\n",
      "56             56            56          71        60    109       153     387.6\n",
      "57             57            57          72        90    100       127     700.0\n",
      "58             58            58          74        45    114       146     304.0\n",
      "59             59            59          76        45    105       134     251.0\n",
      "60             60            60          77        45    110       141     300.0\n",
      "61             61            61          78       120    100       130     500.4\n",
      "62             62            62          79       270    100       131    1729.0\n",
      "63             63            63          80        30    159       182     319.2\n",
      "64             64            64          81        45    149       169     344.0\n",
      "65             65            65          82        30    103       139     151.1\n",
      "66             66            66          83       120    100       130     500.0\n",
      "67             67            67          84        45    100       120     225.3\n",
      "68             68            68          85        30    151       170     300.0\n",
      "69             69            69          86        45    102       136     234.0\n",
      "70             70            70          87       120    100       157    1000.1\n",
      "71             71            71          88        45    129       103     242.0\n",
      "72             72            72          90       180    101       127     600.1\n",
      "73             73            73          94        20    150       171     127.4\n",
      "74             74            74          95        20    151       168     229.4\n",
      "75             75            75          97        25    152       168     244.2\n",
      "76             76            76          98        30    109       131     188.2\n",
      "77             77            77         109       210    137       184    1860.4\n",
      "78             78            78         110        60    102       124     325.2\n",
      "79             79            79         111        45    107       124     275.0\n",
      "80             80            80         112        15    124       139     124.2\n",
      "81             81            81         113        45    100       120     225.3\n",
      "82             82            82         114        60    108       131     367.6\n",
      "83             83            83         115        60    108       151     351.7\n",
      "84             84            84         116        60    116       141     443.0\n",
      "85             85            85         119        60    103       124     332.7\n",
      "86             86            86         120        30    112       137     193.9\n",
      "87             87            87         121        45    100       120     100.7\n",
      "88             88            88         122        60    119       169     336.7\n",
      "89             89            89         123        60    107       127     344.9\n",
      "90             90            90         124        60    111       151     368.5\n",
      "91             91            91         127        60    109       127     382.0\n",
      "92             92            92         129        60    114       151     384.0\n",
      "93             93            93         130        60    104       134     342.5\n",
      "94             94            94         131        60    107       138     357.5\n",
      "95             95            95         132        60    103       133     335.0\n",
      "96             96            96         133        60    106       132     327.5\n",
      "97             97            97         134        60    103       136     339.0\n",
      "98             98            98         135        20    136       156     189.0\n",
      "99             99            99         136        45    117       143     317.7\n",
      "100           100           100         137        45    115       137     318.0\n",
      "101           101           101         138        45    113       138     308.0\n",
      "102           102           102         139        20    141       162     222.4\n",
      "103           103           103         140        60    108       135     390.0\n",
      "104           104           104         142        45    100       120     250.4\n",
      "105           105           105         143        45    122       149     335.4\n",
      "106           106           106         144        60    136       170     470.2\n",
      "107           107           107         145        45    106       126     270.8\n",
      "108           108           108         146        60    107       136     400.0\n",
      "109           109           109         147        60    112       146     361.9\n",
      "110           110           110         148        30    103       127     185.0\n",
      "111           111           111         149        60    110       150     409.4\n",
      "112           112           112         150        60    106       134     343.0\n",
      "113           113           113         151        60    109       129     353.2\n",
      "114           114           114         152        60    109       138     374.0\n",
      "115           115           115         153        30    150       167     275.8\n",
      "116           116           116         154        60    105       128     328.0\n",
      "117           117           117         155        60    111       151     368.5\n",
      "118           118           118         157        60    100       120     270.4\n",
      "119           119           119         158        60    114       150     382.8\n",
      "120           120           120         163        45    100       140     280.9\n",
      "121           121           121         164        60    105       140     290.8\n",
      "122           122           122         165        60    110       145     300.0\n",
      "123           123           123         166        60    115       145     310.2\n",
      "124           124           124         167        75    120       150     320.4\n",
      "125           125           125         168        75    125       150     330.4\n",
      "0      False\n",
      "1      False\n",
      "2      False\n",
      "3      False\n",
      "4      False\n",
      "       ...  \n",
      "121    False\n",
      "122    False\n",
      "123    False\n",
      "124    False\n",
      "125    False\n",
      "Length: 126, dtype: bool\n"
     ]
    },
    {
     "name": "stderr",
     "output_type": "stream",
     "text": [
      "/var/folders/zm/2vwt198x30qgsrvf81352qtr0000gn/T/ipykernel_1155/3349508995.py:11: FutureWarning: A value is trying to be set on a copy of a DataFrame or Series through chained assignment using an inplace method.\n",
      "The behavior will change in pandas 3.0. This inplace method will never work because the intermediate object on which we are setting values always behaves as a copy.\n",
      "\n",
      "For example, when doing 'df[col].method(value, inplace=True)', try using 'df.method({col: value}, inplace=True)' or df[col] = df[col].method(value) instead, to perform the operation inplace on the original object.\n",
      "\n",
      "\n",
      "  df[\"Calories\"].fillna(x, inplace = True)\n"
     ]
    }
   ],
   "source": [
    "import pandas as pd\n",
    "#remove rows\n",
    "df = pd.read_csv('data.csv')\n",
    "new_df = df.dropna()\n",
    "\n",
    "# Remove all rows with NULL values\n",
    "df.dropna(inplace = True)\n",
    "\n",
    "# Calculate the MEAN, and replace any empty values with it:\n",
    "x = df[\"Calories\"].mean()\n",
    "df[\"Calories\"].fillna(x, inplace = True)\n",
    "\n",
    "# replace value\n",
    "df.loc[8, 'Duration'] = 55\n",
    "\n",
    "#remove values according to size\n",
    "for x in df.index:\n",
    "  if df.loc[x, \"Pulse\"] < 100:\n",
    "    df.drop(x, inplace = True)\n",
    "\n",
    "print(df.to_string())\n",
    "\n",
    "#find duplicates\n",
    "print(df.duplicated())\n",
    "\n",
    "\n",
    "# use to_csv() to write df to a CSV file\n",
    "df.to_csv('cleaned_data.csv')\n"
   ]
  },
  {
   "cell_type": "code",
   "execution_count": 2,
   "metadata": {},
   "outputs": [
    {
     "name": "stdout",
     "output_type": "stream",
     "text": [
      "              Unnamed: 0.3  Unnamed: 0.2  Unnamed: 0.1  Unnamed: 0  Duration  \\\n",
      "Unnamed: 0.3      1.000000      1.000000      1.000000    0.998151 -0.051923   \n",
      "Unnamed: 0.2      1.000000      1.000000      1.000000    0.998151 -0.051923   \n",
      "Unnamed: 0.1      1.000000      1.000000      1.000000    0.998151 -0.051923   \n",
      "Unnamed: 0        0.998151      0.998151      0.998151    1.000000 -0.063656   \n",
      "Duration         -0.051923     -0.051923     -0.051923   -0.063656  1.000000   \n",
      "Pulse             0.164879      0.164879      0.164879    0.153880 -0.231373   \n",
      "Maxpulse          0.197375      0.197375      0.197375    0.189315 -0.022218   \n",
      "Calories         -0.044980     -0.044980     -0.044980   -0.053290  0.923706   \n",
      "\n",
      "                 Pulse  Maxpulse  Calories  \n",
      "Unnamed: 0.3  0.164879  0.197375 -0.044980  \n",
      "Unnamed: 0.2  0.164879  0.197375 -0.044980  \n",
      "Unnamed: 0.1  0.164879  0.197375 -0.044980  \n",
      "Unnamed: 0    0.153880  0.189315 -0.053290  \n",
      "Duration     -0.231373 -0.022218  0.923706  \n",
      "Pulse         1.000000  0.716135 -0.050793  \n",
      "Maxpulse      0.716135  1.000000  0.173707  \n",
      "Calories     -0.050793  0.173707  1.000000  \n"
     ]
    }
   ],
   "source": [
    "import pandas as pd\n",
    "\n",
    "df = pd.read_csv('cleaned_data.csv')\n",
    "print(df.corr())"
   ]
  },
  {
   "cell_type": "markdown",
   "metadata": {},
   "source": [
    "## Section 3: Web scraping\n",
    "\n",
    "<ins>Resources: </ins>\n",
    "\n",
    "BeautifulSoup tutorial: https://www.tutorialspoint.com/beautiful_soup/index.htm \\\n",
    "BeautifulSoup documentation: https://www.crummy.com/software/BeautifulSoup/bs4/doc/#find\n",
    "\n"
   ]
  },
  {
   "cell_type": "markdown",
   "metadata": {},
   "source": [
    "### Task 1"
   ]
  },
  {
   "cell_type": "markdown",
   "metadata": {},
   "source": [
    "1. Go through the example notebook 1, reading and running each code block. Make sure that you understand what each part is doing.\n",
    "2. Choose a new wiki page and run the code to scrape data from the tables on that page\n",
    "3.  Save as a .csv\n",
    "4.  Use pandas to clean the data (if needed) and try find some interesting correlations"
   ]
  },
  {
   "cell_type": "code",
   "execution_count": null,
   "metadata": {},
   "outputs": [],
   "source": []
  },
  {
   "cell_type": "markdown",
   "metadata": {},
   "source": [
    "### Task 2"
   ]
  },
  {
   "cell_type": "markdown",
   "metadata": {},
   "source": [
    "1. Go through the example notebook 2 for image scraping, reading and running each code block. Make sure that you understand what each part is doing.\n",
    "2. Choose a different webpage and scrape the images (NOTE: make sure that you choose a website that allows scraping)"
   ]
  },
  {
   "cell_type": "code",
   "execution_count": null,
   "metadata": {},
   "outputs": [],
   "source": []
  }
 ],
 "metadata": {
  "kernelspec": {
   "display_name": "daz-venv",
   "language": "python",
   "name": "python3"
  },
  "language_info": {
   "codemirror_mode": {
    "name": "ipython",
    "version": 3
   },
   "file_extension": ".py",
   "mimetype": "text/x-python",
   "name": "python",
   "nbconvert_exporter": "python",
   "pygments_lexer": "ipython3",
   "version": "3.11.9"
  }
 },
 "nbformat": 4,
 "nbformat_minor": 2
}
