{
 "cells": [
  {
   "cell_type": "markdown",
   "metadata": {},
   "source": [
    "#### Before you start, create a repository for this session, as you will be doing code reviews of your exercises, add your team as collaborators\n",
    "✅✅✅✅"
   ]
  },
  {
   "cell_type": "markdown",
   "metadata": {},
   "source": [
    "#### Exercise 1: import necessary libraries to carry out analysis using pandas and to visualise the dataset [brazilian_amazon_fires_1999_2019.csv](brazilian_amazon_fires_1999_2019.csv)"
   ]
  },
  {
   "cell_type": "code",
   "execution_count": 12,
   "metadata": {},
   "outputs": [
    {
     "name": "stdout",
     "output_type": "stream",
     "text": [
      "Requirement already satisfied: matplotlib in /Library/Frameworks/Python.framework/Versions/3.11/lib/python3.11/site-packages (3.10.0)\n",
      "Requirement already satisfied: contourpy>=1.0.1 in /Library/Frameworks/Python.framework/Versions/3.11/lib/python3.11/site-packages (from matplotlib) (1.3.1)\n",
      "Requirement already satisfied: cycler>=0.10 in /Library/Frameworks/Python.framework/Versions/3.11/lib/python3.11/site-packages (from matplotlib) (0.12.1)\n",
      "Requirement already satisfied: fonttools>=4.22.0 in /Library/Frameworks/Python.framework/Versions/3.11/lib/python3.11/site-packages (from matplotlib) (4.55.8)\n",
      "Requirement already satisfied: kiwisolver>=1.3.1 in /Library/Frameworks/Python.framework/Versions/3.11/lib/python3.11/site-packages (from matplotlib) (1.4.8)\n",
      "Requirement already satisfied: numpy>=1.23 in /Library/Frameworks/Python.framework/Versions/3.11/lib/python3.11/site-packages (from matplotlib) (2.2.2)\n",
      "Requirement already satisfied: packaging>=20.0 in /Users/toniayon/Library/Python/3.11/lib/python/site-packages (from matplotlib) (24.2)\n",
      "Requirement already satisfied: pillow>=8 in /Library/Frameworks/Python.framework/Versions/3.11/lib/python3.11/site-packages (from matplotlib) (11.1.0)\n",
      "Requirement already satisfied: pyparsing>=2.3.1 in /Library/Frameworks/Python.framework/Versions/3.11/lib/python3.11/site-packages (from matplotlib) (3.2.1)\n",
      "Requirement already satisfied: python-dateutil>=2.7 in /Library/Frameworks/Python.framework/Versions/3.11/lib/python3.11/site-packages (from matplotlib) (2.9.0.post0)\n",
      "Requirement already satisfied: six>=1.5 in /Library/Frameworks/Python.framework/Versions/3.11/lib/python3.11/site-packages (from python-dateutil>=2.7->matplotlib) (1.17.0)\n",
      "\n",
      "\u001b[1m[\u001b[0m\u001b[34;49mnotice\u001b[0m\u001b[1;39;49m]\u001b[0m\u001b[39;49m A new release of pip is available: \u001b[0m\u001b[31;49m24.3.1\u001b[0m\u001b[39;49m -> \u001b[0m\u001b[32;49m25.0\u001b[0m\n",
      "\u001b[1m[\u001b[0m\u001b[34;49mnotice\u001b[0m\u001b[1;39;49m]\u001b[0m\u001b[39;49m To update, run: \u001b[0m\u001b[32;49mpython3 -m pip install --upgrade pip\u001b[0m\n",
      "Note: you may need to restart the kernel to use updated packages.\n",
      "Requirement already satisfied: pip in /Library/Frameworks/Python.framework/Versions/3.11/lib/python3.11/site-packages (24.3.1)\n",
      "Collecting pip\n",
      "  Using cached pip-25.0-py3-none-any.whl.metadata (3.7 kB)\n",
      "Using cached pip-25.0-py3-none-any.whl (1.8 MB)\n",
      "Installing collected packages: pip\n",
      "  Attempting uninstall: pip\n",
      "    Found existing installation: pip 24.3.1\n",
      "    Uninstalling pip-24.3.1:\n",
      "      Successfully uninstalled pip-24.3.1\n",
      "\u001b[33m  WARNING: The scripts pip, pip3 and pip3.11 are installed in '/Library/Frameworks/Python.framework/Versions/3.11/bin' which is not on PATH.\n",
      "  Consider adding this directory to PATH or, if you prefer to suppress this warning, use --no-warn-script-location.\u001b[0m\u001b[33m\n",
      "\u001b[0mSuccessfully installed pip-25.0\n",
      "Note: you may need to restart the kernel to use updated packages.\n"
     ]
    }
   ],
   "source": [
    "%pip install matplotlib\n",
    "%pip install --upgrade pip"
   ]
  },
  {
   "cell_type": "code",
   "execution_count": 3,
   "metadata": {},
   "outputs": [],
   "source": [
    "import pandas as pd\n",
    "df = pd.read_csv('brazilian_amazon_fires_1999_2019.csv')"
   ]
  },
  {
   "cell_type": "markdown",
   "metadata": {},
   "source": [
    "#### Exercise 2: Load the data and display the first few rows\n"
   ]
  },
  {
   "cell_type": "code",
   "execution_count": 4,
   "metadata": {},
   "outputs": [
    {
     "name": "stdout",
     "output_type": "stream",
     "text": [
      "year\n",
      "month\n",
      "state\n",
      "latitude\n",
      "longitude\n",
      "firespots\n"
     ]
    }
   ],
   "source": [
    "with open('brazilian_amazon_fires_1999_2019.csv', mode ='r')as file:\n",
    " df = pd.read_csv('brazilian_amazon_fires_1999_2019.csv')\n",
    "for lines in df:\n",
    "        print(lines)"
   ]
  },
  {
   "cell_type": "markdown",
   "metadata": {},
   "source": [
    "#### Exercise 3: Display basic summary statistics and check for missing values\n",
    "\n",
    " tip: [check the documentation](https://pandas.pydata.org/docs/getting_started/intro_tutorials/06_calculate_statistics.html)"
   ]
  },
  {
   "cell_type": "code",
   "execution_count": 5,
   "metadata": {},
   "outputs": [
    {
     "data": {
      "text/plain": [
       "np.float64(1167.4177756653992)"
      ]
     },
     "execution_count": 5,
     "metadata": {},
     "output_type": "execute_result"
    }
   ],
   "source": [
    "df[\"firespots\"].mean() "
   ]
  },
  {
   "cell_type": "code",
   "execution_count": 6,
   "metadata": {},
   "outputs": [
    {
     "data": {
      "text/html": [
       "<div>\n",
       "<style scoped>\n",
       "    .dataframe tbody tr th:only-of-type {\n",
       "        vertical-align: middle;\n",
       "    }\n",
       "\n",
       "    .dataframe tbody tr th {\n",
       "        vertical-align: top;\n",
       "    }\n",
       "\n",
       "    .dataframe thead th {\n",
       "        text-align: right;\n",
       "    }\n",
       "</style>\n",
       "<table border=\"1\" class=\"dataframe\">\n",
       "  <thead>\n",
       "    <tr style=\"text-align: right;\">\n",
       "      <th></th>\n",
       "      <th>latitude</th>\n",
       "      <th>longitude</th>\n",
       "      <th>firespots</th>\n",
       "    </tr>\n",
       "  </thead>\n",
       "  <tbody>\n",
       "    <tr>\n",
       "      <th>count</th>\n",
       "      <td>2104.000000</td>\n",
       "      <td>2104.000000</td>\n",
       "      <td>2104.000000</td>\n",
       "    </tr>\n",
       "    <tr>\n",
       "      <th>mean</th>\n",
       "      <td>-5.439282</td>\n",
       "      <td>-56.510314</td>\n",
       "      <td>1167.417776</td>\n",
       "    </tr>\n",
       "    <tr>\n",
       "      <th>std</th>\n",
       "      <td>4.852439</td>\n",
       "      <td>7.382619</td>\n",
       "      <td>2959.558714</td>\n",
       "    </tr>\n",
       "    <tr>\n",
       "      <th>min</th>\n",
       "      <td>-14.431908</td>\n",
       "      <td>-73.085000</td>\n",
       "      <td>1.000000</td>\n",
       "    </tr>\n",
       "    <tr>\n",
       "      <th>25%</th>\n",
       "      <td>-9.946974</td>\n",
       "      <td>-62.376004</td>\n",
       "      <td>16.000000</td>\n",
       "    </tr>\n",
       "    <tr>\n",
       "      <th>50%</th>\n",
       "      <td>-5.808292</td>\n",
       "      <td>-55.876480</td>\n",
       "      <td>121.000000</td>\n",
       "    </tr>\n",
       "    <tr>\n",
       "      <th>75%</th>\n",
       "      <td>-2.595169</td>\n",
       "      <td>-50.396154</td>\n",
       "      <td>755.000000</td>\n",
       "    </tr>\n",
       "    <tr>\n",
       "      <th>max</th>\n",
       "      <td>4.151000</td>\n",
       "      <td>-44.188000</td>\n",
       "      <td>37926.000000</td>\n",
       "    </tr>\n",
       "  </tbody>\n",
       "</table>\n",
       "</div>"
      ],
      "text/plain": [
       "          latitude    longitude     firespots\n",
       "count  2104.000000  2104.000000   2104.000000\n",
       "mean     -5.439282   -56.510314   1167.417776\n",
       "std       4.852439     7.382619   2959.558714\n",
       "min     -14.431908   -73.085000      1.000000\n",
       "25%      -9.946974   -62.376004     16.000000\n",
       "50%      -5.808292   -55.876480    121.000000\n",
       "75%      -2.595169   -50.396154    755.000000\n",
       "max       4.151000   -44.188000  37926.000000"
      ]
     },
     "execution_count": 6,
     "metadata": {},
     "output_type": "execute_result"
    }
   ],
   "source": [
    "df[[\"latitude\", \"longitude\",\"firespots\"]].describe() "
   ]
  },
  {
   "cell_type": "markdown",
   "metadata": {},
   "source": [
    "#### Exercise 4: Exploratory Data Analysis - Count of firespots by state\n",
    "\n",
    "- Analyze the distribution of firespots across different states."
   ]
  },
  {
   "cell_type": "code",
   "execution_count": 13,
   "metadata": {},
   "outputs": [
    {
     "name": "stdout",
     "output_type": "stream",
     "text": [
      "      year  month        state   latitude  longitude  firespots\n",
      "313   2002      8         PARA  -7.272872 -51.737227      37926\n",
      "527   2004      9  MATO GROSSO -11.093895 -56.204235      24886\n",
      "835   2007      9  MATO GROSSO -11.018350 -56.162919      24779\n",
      "312   2002      8  MATO GROSSO -10.646819 -55.591126      23642\n",
      "622   2005      8         PARA  -6.767477 -52.125310      23635\n",
      "...    ...    ...          ...        ...        ...        ...\n",
      "115   2000      6         ACRE -10.115000 -67.673100          1\n",
      "392   2003      5    TOCANTINS  -8.102000 -49.040000          1\n",
      "1210  2011      5    TOCANTINS  -5.301000 -48.397000          1\n",
      "1212  2011      6        AMAPA   0.115000 -51.109000          1\n",
      "189   2001      5     MARANHAO  -3.248330 -46.148300          1\n",
      "\n",
      "[2104 rows x 6 columns]\n"
     ]
    },
    {
     "data": {
      "image/png": "[encoded data removed]",
      "text/plain": [
       "<Figure size 640x480 with 1 Axes>"
      ]
     },
     "metadata": {},
     "output_type": "display_data"
    }
   ],
   "source": [
    "#grouping the data by 'state' and sum the number of 'firespots'\n",
    "\n",
    "\n",
    "#sorting the results by the number of firespots in descending order\n",
    "x= df.sort_values([\"firespots\"],  \n",
    "                    axis=0, \n",
    "                    ascending=[False],  \n",
    "                    inplace=True) \n",
    "print(df)\n",
    "\n",
    "#plot the results using a bar plot\n",
    "\n",
    "import matplotlib.pyplot as plt\n",
    "import numpy as np\n",
    "plt.bar(\"firespots\",\"state\")\n",
    "plt.title('Firespots by state')\n",
    "\n",
    "\n",
    "\n",
    "#remember in the lecture example we used plt.plot for a basic line plot but now we need a bar , follow that example to set color too\n",
    "\n",
    "\n",
    "\n",
    "\n",
    "#show your plot\n",
    "plt.show()"
   ]
  },
  {
   "cell_type": "code",
   "execution_count": 7,
   "metadata": {},
   "outputs": [
    {
     "ename": "NameError",
     "evalue": "name 'csvData' is not defined",
     "output_type": "error",
     "traceback": [
      "\u001b[0;31m---------------------------------------------------------------------------\u001b[0m",
      "\u001b[0;31mNameError\u001b[0m                                 Traceback (most recent call last)",
      "Cell \u001b[0;32mIn[7], line 17\u001b[0m\n\u001b[1;32m     10\u001b[0m X \u001b[38;5;241m=\u001b[39m df\u001b[38;5;241m.\u001b[39msort_values([\u001b[38;5;124m\"\u001b[39m\u001b[38;5;124mfirespots\u001b[39m\u001b[38;5;124m\"\u001b[39m],  \n\u001b[1;32m     11\u001b[0m                     axis\u001b[38;5;241m=\u001b[39m\u001b[38;5;241m0\u001b[39m, \n\u001b[1;32m     12\u001b[0m                     ascending\u001b[38;5;241m=\u001b[39m[\u001b[38;5;28;01mFalse\u001b[39;00m],  \n\u001b[1;32m     13\u001b[0m                     inplace\u001b[38;5;241m=\u001b[39m\u001b[38;5;28;01mTrue\u001b[39;00m) \n\u001b[1;32m     14\u001b[0m Y \u001b[38;5;241m=\u001b[39m \u001b[38;5;28mlist\u001b[39m(\u001b[38;5;124m\"\u001b[39m\u001b[38;5;124mdate\u001b[39m\u001b[38;5;124m\"\u001b[39m) \n\u001b[0;32m---> 17\u001b[0m \u001b[43mcsvData\u001b[49m\u001b[38;5;241m.\u001b[39msort_values([\u001b[38;5;124m\"\u001b[39m\u001b[38;5;124mName\u001b[39m\u001b[38;5;124m\"\u001b[39m, \u001b[38;5;124m\"\u001b[39m\u001b[38;5;124mAge\u001b[39m\u001b[38;5;124m\"\u001b[39m, \u001b[38;5;124m\"\u001b[39m\u001b[38;5;124mHeight\u001b[39m\u001b[38;5;124m\"\u001b[39m],  \n\u001b[1;32m     18\u001b[0m                     axis\u001b[38;5;241m=\u001b[39m\u001b[38;5;241m0\u001b[39m, \n\u001b[1;32m     19\u001b[0m                     ascending\u001b[38;5;241m=\u001b[39m[\u001b[38;5;28;01mTrue\u001b[39;00m, \u001b[38;5;28;01mTrue\u001b[39;00m, \u001b[38;5;28;01mTrue\u001b[39;00m],  \n\u001b[1;32m     20\u001b[0m                     inplace\u001b[38;5;241m=\u001b[39m\u001b[38;5;28;01mTrue\u001b[39;00m) \n\u001b[1;32m     22\u001b[0m \u001b[38;5;66;03m# Plot the data using bar() method \u001b[39;00m\n\u001b[1;32m     23\u001b[0m plt\u001b[38;5;241m.\u001b[39mbar(X,Y, color\u001b[38;5;241m=\u001b[39m\u001b[38;5;124m'\u001b[39m\u001b[38;5;124mg\u001b[39m\u001b[38;5;124m'\u001b[39m) \n",
      "\u001b[0;31mNameError\u001b[0m: name 'csvData' is not defined"
     ]
    }
   ],
   "source": [
    "import matplotlib.pyplot as plt \n",
    "import pandas as pd \n",
    "  \n",
    "  \n",
    "# Initialize the lists for X and Y \n",
    "data = pd.read_csv('brazilian_amazon_fires_1999_2019.csv') \n",
    "  \n",
    "df = pd.DataFrame(data) \n",
    "  \n",
    "X = df.sort_values([\"firespots\"],  \n",
    "                    axis=0, \n",
    "                    ascending=[False],  \n",
    "                    inplace=True) \n",
    "Y = list(\"date\") \n",
    "\n",
    "\n",
    "csvData.sort_values([\"Name\", \"Age\", \"Height\"],  \n",
    "                    axis=0, \n",
    "                    ascending=[True, True, True],  \n",
    "                    inplace=True) \n",
    "  \n",
    "# Plot the data using bar() method \n",
    "plt.bar(X,Y, color='g') \n",
    "plt.title(\"Firespots\") \n",
    "plt.xlabel(\"firespots\") \n",
    "plt.ylabel(\"state\") \n",
    "  \n",
    "# Show the plot \n",
    "plt.show() "
   ]
  },
  {
   "cell_type": "code",
   "execution_count": 16,
   "metadata": {},
   "outputs": [
    {
     "ename": "NameError",
     "evalue": "name 'csvData' is not defined",
     "output_type": "error",
     "traceback": [
      "\u001b[0;31m---------------------------------------------------------------------------\u001b[0m",
      "\u001b[0;31mNameError\u001b[0m                                 Traceback (most recent call last)",
      "Cell \u001b[0;32mIn[16], line 13\u001b[0m\n\u001b[1;32m      6\u001b[0m data \u001b[38;5;241m=\u001b[39m pd\u001b[38;5;241m.\u001b[39mread_csv(\u001b[38;5;124m'\u001b[39m\u001b[38;5;124mbrazilian_amazon_fires_1999_2019.csv\u001b[39m\u001b[38;5;124m'\u001b[39m) \n\u001b[1;32m      8\u001b[0m df \u001b[38;5;241m=\u001b[39m pd\u001b[38;5;241m.\u001b[39mDataFrame(data) \n\u001b[0;32m---> 13\u001b[0m \u001b[43mcsvData\u001b[49m\u001b[38;5;241m.\u001b[39msort_values([\u001b[38;5;124m\"\u001b[39m\u001b[38;5;124mName\u001b[39m\u001b[38;5;124m\"\u001b[39m, \u001b[38;5;124m\"\u001b[39m\u001b[38;5;124mAge\u001b[39m\u001b[38;5;124m\"\u001b[39m, \u001b[38;5;124m\"\u001b[39m\u001b[38;5;124mHeight\u001b[39m\u001b[38;5;124m\"\u001b[39m],  \n\u001b[1;32m     14\u001b[0m                     axis\u001b[38;5;241m=\u001b[39m\u001b[38;5;241m0\u001b[39m, \n\u001b[1;32m     15\u001b[0m                     ascending\u001b[38;5;241m=\u001b[39m[\u001b[38;5;28;01mTrue\u001b[39;00m, \u001b[38;5;28;01mTrue\u001b[39;00m, \u001b[38;5;28;01mTrue\u001b[39;00m],  \n\u001b[1;32m     16\u001b[0m                     inplace\u001b[38;5;241m=\u001b[39m\u001b[38;5;28;01mTrue\u001b[39;00m) \n\u001b[1;32m     18\u001b[0m \u001b[38;5;66;03m# Plot the data using bar() method \u001b[39;00m\n\u001b[1;32m     19\u001b[0m plt\u001b[38;5;241m.\u001b[39mbar(X,Y, color\u001b[38;5;241m=\u001b[39m\u001b[38;5;124m'\u001b[39m\u001b[38;5;124mg\u001b[39m\u001b[38;5;124m'\u001b[39m) \n",
      "\u001b[0;31mNameError\u001b[0m: name 'csvData' is not defined"
     ]
    }
   ],
   "source": [
    "import matplotlib.pyplot as plt \n",
    "import pandas as pd \n",
    "  \n",
    "  \n",
    "# Initialize the lists for X and Y \n",
    "data = pd.read_csv('brazilian_amazon_fires_1999_2019.csv') \n",
    "  \n",
    "df = pd.DataFrame(data) \n",
    "  \n",
    "\n",
    "\n",
    "\n",
    "csvData.sort_values([\"Name\", \"Age\", \"Height\"],  \n",
    "                    axis=0, \n",
    "                    ascending=[True, True, True],  \n",
    "                    inplace=True) \n",
    "  \n",
    "# Plot the data using bar() method \n",
    "plt.bar(X,Y, color='g') \n",
    "plt.title(\"Firespots\") \n",
    "plt.xlabel(\"firespots\") \n",
    "plt.ylabel(\"state\") \n",
    "  \n",
    "# Show the plot \n",
    "plt.show() "
   ]
  },
  {
   "cell_type": "code",
   "execution_count": 17,
   "metadata": {},
   "outputs": [
    {
     "data": {
      "image/png": "[encoded data removed]",
      "text/plain": [
       "<Figure size 640x480 with 1 Axes>"
      ]
     },
     "metadata": {},
     "output_type": "display_data"
    }
   ],
   "source": [
    "import pandas as pd\n",
    "import matplotlib.pyplot as plt\n",
    "\n",
    "# Read data from CSV file\n",
    "data = pd.read_csv('brazilian_amazon_fires_1999_2019.csv')\n",
    "\n",
    "# Extract the relevant columns\n",
    "states = data[\"state\"].tolist()\n",
    "firespots = data[\"firespots\"].tolist()\n",
    "\n",
    "# Create a bar chart\n",
    "plt.bar(states, firespots)\n",
    "plt.title('Firespots by state')\n",
    "plt.xlabel('State')\n",
    "plt.ylabel('Number of firespots')\n",
    "plt.show()\n"
   ]
  },
  {
   "cell_type": "code",
   "execution_count": 2,
   "metadata": {},
   "outputs": [
    {
     "data": {
      "image/png": "[encoded data removed]",
      "text/plain": [
       "<Figure size 640x480 with 1 Axes>"
      ]
     },
     "metadata": {},
     "output_type": "display_data"
    }
   ],
   "source": [
    "import pandas as pd\n",
    "import matplotlib.pyplot as plt\n",
    "\n",
    "# Read data from CSV file\n",
    "data = pd.read_csv('brazilian_amazon_fires_1999_2019.csv')\n",
    "\n",
    "# Extract the relevant columns\n",
    "states = data[\"state\"].tolist()\n",
    "firespots = data[\"firespots\"].tolist()\n",
    "\n",
    "# Sort the data in descending order\n",
    "firespots.sort(reverse=True)\n",
    "sorted_states = [states[i] for i in sorted(range(len(states)), key=lambda i: firespots[i], reverse=True)]\n",
    "\n",
    "# Create a bar chart\n",
    "plt.bar(sorted_states, firespots)\n",
    "plt.title('Firespots by state')\n",
    "plt.xlabel('State')\n",
    "plt.ylabel('Number of firespots')\n",
    "plt.xlabel(\"x\",labelpad=100)\n",
    "plt.show()\n"
   ]
  },
  {
   "cell_type": "markdown",
   "metadata": {},
   "source": [
    "### Exercise 5: Code Review your analysis and plot\n",
    "- use github to do this, you can do this on someone else's repository but you will need to **fork** it or be added as collaborator\n",
    "\n",
    "This is a very useful post:\n",
    "\n",
    "[code review on github](https://linearb.io/blog/code-review-on-github)\n",
    "\n",
    "\n",
    "##### Forking a Repository\n",
    "\n",
    "What is Forking? Forking creates a personal copy of someone else's repository under your Git account. It's typically used when you want to contribute to a project that you don't have direct write access to.\n",
    "\n",
    "When to Fork: Contributing to Open Source Projects: If you're contributing to an open-source project or any repository where you don't have write permissions, you'll fork the repository to create your own version that you can work on. Personal Changes: If you want to experiment with or make personal changes to someone else's project without affecting the original project, you fork it.\n",
    "\n",
    "How to Fork: On GitHub (or similar platforms), navigate to the repository you want to contribute to and click the “Fork” button. This creates a copy of the repository under your account.\n",
    "\n",
    "Next Steps After Forking: Clone the Forked Repository: Once you've forked the repository, clone it to your local machine to start working on it.\n",
    "\n",
    "git clone https://github.com/your-username/forked-repo.git\n",
    "\n",
    "\n",
    "Make Changes: After cloning, you can create branches, make changes, and commit them as you would with any other repository.\n",
    "\n",
    "Submit a Pull Request: Once your changes are ready, you can submit a pull request from your forked repository back to the original repository to propose your changes.\n",
    "\n",
    "\n",
    "##### **github code review**\n",
    "\n",
    "**Create a New Branch:**\n",
    "- Start by creating a new branch from your main branch (usually main or master).\n",
    "- Make your changes or implement the new feature in this branch.\n",
    "\n",
    "\n",
    "`git checkout -b my-feature-branch\n",
    "`     \n",
    "\n",
    "**Commit Your Changes:**\n",
    "\n",
    "After making the necessary changes, commit them to your branch.\n",
    "\n",
    "`git add .`\n",
    "`git commit -m \"Implemented feature X\"`\n",
    "\n",
    "     \n",
    "**Push the Branch to Your Repository:**\n",
    "**Push the new branch to your remote repository.**\n",
    "\n",
    "`git push origin my-feature-branch\n",
    "`\n",
    "     \n",
    "**Create a Pull Request:**\n",
    "\n",
    "- Go to your repository on GitHub.\n",
    "- You’ll see an option to create a pull request for the branch you just pushed. Click on it and fill in the PR details.\n",
    "\n",
    "**Review your code:\n",
    "**\n",
    "Once the pull request is created, you can review your changes in the PR interface. This allows you to see a diff of your changes, add comments, and reflect on the code as if you were a reviewer.\n",
    "\n",
    "- explore the code\n",
    "\n",
    "- is there anything you are particularly interested in? they used a different color? you dont understand something? you would like to know more about their choices?\n",
    "\n",
    "You can also take advantage of any automated tests, linting, or CI/CD pipelines you have set up to validate your changes.\n",
    "\n",
    "**Approve and merge the PR:\n",
    "**\n",
    "If you’re satisfied with the review, you can approve and merge the pull request. Alternatively, you can make further changes by pushing additional commits to the same branch.\n",
    "\n",
    "After merging, you can delete the branch if it’s no longer needed.\n",
    "\n",
    "\n",
    "\n",
    "\n"
   ]
  },
  {
   "cell_type": "markdown",
   "metadata": {},
   "source": [
    "#### Exercise 6: Pair programming \n",
    "\n",
    "The task is to show firespost on a map using plotly with OpenStreetMap\n",
    "\n",
    "- with the same dataset, now show the firesposts in a map\n",
    "- you already have access to the data latitude and longitud\n",
    "- since we want to show the data on a map, you will need to use a library that lets you do this in an easy, straighfoward way - matplotlib has geopandas but there are also other libraries \n",
    "- let's use plotly.express   > particularly useful for generating quick, interactive plots with minimal code.\n",
    "- you will need to install plotly\n",
    "\n",
    "- check the documentation for guide \n",
    "[https://plotly.com/python/mapbox-density-heatmaps/](https://plotly.com/python/mapbox-density-heatmaps/)\n"
   ]
  },
  {
   "cell_type": "code",
   "execution_count": null,
   "metadata": {},
   "outputs": [],
   "source": [
    "#import libraries\n",
    "\n",
    "\n",
    "#load data\n",
    "\n",
    "#create density mapbox\n",
    "\n",
    "\n",
    "#display map"
   ]
  },
  {
   "cell_type": "markdown",
   "metadata": {},
   "source": []
  }
 ],
 "metadata": {
  "kernelspec": {
   "display_name": "Python 3",
   "language": "python",
   "name": "python3"
  },
  "language_info": {
   "codemirror_mode": {
    "name": "ipython",
    "version": 3
   },
   "file_extension": ".py",
   "mimetype": "text/x-python",
   "name": "python",
   "nbconvert_exporter": "python",
   "pygments_lexer": "ipython3",
   "version": "3.11.9"
  }
 },
 "nbformat": 4,
 "nbformat_minor": 2
}
