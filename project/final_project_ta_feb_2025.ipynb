{
 "cells": [
  {
   "cell_type": "code",
   "execution_count": 10,
   "metadata": {},
   "outputs": [
    {
     "name": "stdout",
     "output_type": "stream",
     "text": [
      "Requirement already satisfied: openpyxl in /Library/Frameworks/Python.framework/Versions/3.11/lib/python3.11/site-packages (3.1.5)\n",
      "Requirement already satisfied: et-xmlfile in /Library/Frameworks/Python.framework/Versions/3.11/lib/python3.11/site-packages (from openpyxl) (2.0.0)\n",
      "Note: you may need to restart the kernel to use updated packages.\n"
     ]
    }
   ],
   "source": [
    "pip install openpyxl"
   ]
  },
  {
   "cell_type": "code",
   "execution_count": 13,
   "metadata": {},
   "outputs": [
    {
     "name": "stdout",
     "output_type": "stream",
     "text": [
      "                                                                                                                                                                                                                                                                                                                                                                                                                                                                                                                                                                                                                             Table 1\n",
      "NaN                                    Barking and Dagenham Barnet    Bexley    Brent     Bromley   Camden    City of London Croydon   Ealing    Enfield   Greenwich Hackney   Hammersmith and Fulham Haringey  Harrow    Havering  Hillingdon Hounslow  Islington Kensington and Chelsea Kingston upon Thames Lambeth   Lewisham  Merton    Newham    Redbridge Richmond upon Thames Southwark Sutton    Tower Hamlets Waltham Forest Wandsworth Westminster North East North West Yorkshire and The Humber East Midlands West Midlands East      London    South East South West Wales     England    Wales      England and Wales\n",
      "Main Language                          E09000002            E09000003 E09000004 E09000005 E09000006 E09000007 E09000001      E09000008 E09000009 E09000010 E09000011 E09000012 E09000013              E09000014 E09000015 E09000016 E09000017  E09000018 E09000019 E09000020              E09000021            E09000022 E09000023 E09000024 E09000025 E09000026 E09000027            E09000028 E09000029 E09000030     E09000031      E09000032  E09000033   E12000001  E12000002  E12000003                E12000004     E12000005     E12000006 E12000007 E12000008  E12000009  W92000004 E92000001  W92000004          K04000001\n",
      "All usual residents aged 3 and over    174,667              340,431   222,954   297,380   297,299   212,089   7,212          346,451   322,845   297,692   241,675   234,331   174,921                243,770   229,398   229,106   261,989    241,725   198,429   153,015                153,286              290,080   262,256   190,500   292,396   265,968   178,321              275,241   182,380   242,368       245,420        292,980    211,367     2,506,392  6,791,907  5,085,191                4,370,763     5,388,014     5,628,792 7,809,942 8,313,859  5,110,750  2,955,841 51,005,610 2,955,841         53,961,451\n",
      "English (English or Welsh if in Wales) 141,962              260,753   209,507   186,900   280,077   162,326   5,976          296,232   213,470   229,660   200,919   177,886   135,236                171,334   164,051   218,645   212,834    172,277   159,026   110,239                128,110              231,326   219,035   150,367   171,384   200,597   159,702              221,308   164,103   159,488       180,543        241,942    146,205     2,435,635  6,446,819  4,783,865                4,101,046     5,001,880     5,317,554 6,083,420 7,832,436  4,934,125  2,871,405 46,936,780 2,871,405         49,808,185\n",
      "Welsh/Cymraeg (in England only)        5                    39        12        56        40        58        4              20        83        31        33        56        41                     53        46        22        36         40        59        31                     31                   82        34        33        13        14        66                   55        17        50            19             80         51          122        1,945      440                      534           1,265         534       1,310     1,051      1,047      0         8,248      0                      8,248\n"
     ]
    }
   ],
   "source": [
    "df = pd.read_csv(\"main-language-spoken-borough-census.csv\")\n",
    "# Display the first few rows\n",
    "print(df.head())"
   ]
  }
 ],
 "metadata": {
  "kernelspec": {
   "display_name": "Python 3",
   "language": "python",
   "name": "python3"
  },
  "language_info": {
   "codemirror_mode": {
    "name": "ipython",
    "version": 3
   },
   "file_extension": ".py",
   "mimetype": "text/x-python",
   "name": "python",
   "nbconvert_exporter": "python",
   "pygments_lexer": "ipython3",
   "version": "3.11.9"
  }
 },
 "nbformat": 4,
 "nbformat_minor": 2
}
